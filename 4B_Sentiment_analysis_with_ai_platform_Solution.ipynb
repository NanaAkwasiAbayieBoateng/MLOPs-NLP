{
  "nbformat": 4,
  "nbformat_minor": 0,
  "metadata": {
    "accelerator": "GPU",
    "colab": {
      "name": "4B_Sentiment_analysis_with_ai_platform_Solution.ipynb",
      "provenance": [],
      "collapsed_sections": [
        "TDwP2icsaggC",
        "nO9YkzPPaggD",
        "ROyhP_LNaggD",
        "tFQqxCwiaggD",
        "7TciK_iQaggE",
        "wr2-hsnSaggE",
        "PL4ETJhaaggE",
        "87a_rGttaggF",
        "g11KDacEaggF",
        "ETBVRAybaggF",
        "8lLCi33taggF"
      ]
    },
    "kernelspec": {
      "display_name": "Python 3",
      "language": "python",
      "name": "python3"
    },
    "language_info": {
      "codemirror_mode": {
        "name": "ipython",
        "version": 3
      },
      "file_extension": ".py",
      "mimetype": "text/x-python",
      "name": "python",
      "nbconvert_exporter": "python",
      "pygments_lexer": "ipython3",
      "version": "3.7.6"
    }
  },
  "cells": [
    {
      "cell_type": "code",
      "metadata": {
        "id": "kNVCg82xagfz"
      },
      "source": [
        "# Copyright 2020 Google LLC\n",
        "#\n",
        "# Licensed under the Apache License, Version 2.0 (the \"License\");\n",
        "# you may not use this file except in compliance with the License.\n",
        "# You may obtain a copy of the License at\n",
        "#\n",
        "#     https://www.apache.org/licenses/LICENSE-2.0\n",
        "#\n",
        "# Unless required by applicable law or agreed to in writing, software\n",
        "# distributed under the License is distributed on an \"AS IS\" BASIS,\n",
        "# WITHOUT WARRANTIES OR CONDITIONS OF ANY KIND, either express or implied.\n",
        "# See the License for the specific language governing permissions and\n",
        "# limitations under the License."
      ],
      "execution_count": null,
      "outputs": []
    },
    {
      "cell_type": "markdown",
      "metadata": {
        "id": "Yy8l-95JkRx0"
      },
      "source": [
        "# Overview\n",
        "\n",
        "AI Platform Online Prediction now supports custom python code in to apply custom prediction routines, in this blog post we will perform sentiment analysis using [Twitter data](https://www.kaggle.com/kazanova/sentiment140) and Transfer learning using [Pretrained Glove embeddings](https://nlp.stanford.edu/projects/glove/). This tutorial also uses the new [AI Platform Pipelines](https://cloud.google.com/ai-platform/pipelines/docs) product.\n",
        "\n",
        "\n",
        "### Dataset\n",
        "\n",
        "We use the [Twitter data](https://www.kaggle.com/kazanova/sentiment140) which is called `sentiment140` dataset. It contains 1,600,000 tweets extracted using the Twitter AI. The tweets have been annotated (0 = negative, 4 = positive) and they can be used to detect sentiment.\n",
        "\n",
        "It contains the following 6 fields:\n",
        "\n",
        "```\n",
        "target: the polarity of the tweet (0 = negative, 2 = neutral, 4 = positive)\n",
        "ids: The id of the tweet ( 2087)\n",
        "date: the date of the tweet (Sat May 16 23:58:44 UTC 2009)\n",
        "flag: The query (lyx). If there is no query, then this value is NO_QUERY.\n",
        "user: the user that tweeted (robotickilldozr)\n",
        "text: the text of the tweet (Lyx is cool)\n",
        "```\n",
        "The official link regarding the dataset with resources about how it was generated is [here](http://%20http//help.sentiment140.com/for-students/)\n",
        "\n",
        "### Objective\n",
        "\n",
        "In this notebook, we show how to deploy a TensorFlow model using AI Platform  Custom Prediction Code using `sentiment140` for sentiment analysis.\n",
        "\n",
        "### Costs \n",
        "\n",
        "This tutorial uses billable components of Google Cloud Platform (GCP):\n",
        "\n",
        "* Cloud AI Platform\n",
        "* Cloud Storage\n",
        "\n",
        "Learn about [Cloud AI Platform\n",
        "pricing](https://cloud.google.com/ml-engine/docs/pricing) and [Cloud Storage\n",
        "pricing](https://cloud.google.com/storage/pricing), and use the [Pricing\n",
        "Calculator](https://cloud.google.com/products/calculator/)\n",
        "to generate a cost estimate based on your projected usage."
      ]
    },
    {
      "cell_type": "markdown",
      "metadata": {
        "id": "D5AirRX0kRx2"
      },
      "source": [
        "### Set up your local development environment\n",
        "\n",
        "**If you are using Colab or AI Platform Notebooks**, your environment already meets\n",
        "all the requirements to run this notebook. You can skip this step."
      ]
    },
    {
      "cell_type": "markdown",
      "metadata": {
        "id": "Anj3DIEoagf4"
      },
      "source": [
        "**Otherwise**, make sure your environment meets this notebook's requirements.\n",
        "You need the following:\n",
        "\n",
        "* The Google Cloud SDK\n",
        "* Git\n",
        "* Python 3\n",
        "* virtualenv\n",
        "* Jupyter notebook running in a virtual environment with Python 3\n",
        "\n",
        "The Google Cloud guide to [Setting up a Python development\n",
        "environment](https://cloud.google.com/python/setup) and the [Jupyter\n",
        "installation guide](https://jupyter.org/install) provide detailed instructions\n",
        "for meeting these requirements. The following steps provide a condensed set of\n",
        "instructions:\n",
        "\n",
        "1. [Install and initialize the Cloud SDK.](https://cloud.google.com/sdk/docs/)\n",
        "\n",
        "2. [Install Python 3.](https://cloud.google.com/python/setup#installing_python)\n",
        "\n",
        "3. [Install\n",
        "   virtualenv](https://cloud.google.com/python/setup#installing_and_using_virtualenv)\n",
        "   and create a virtual environment that uses Python 3.\n",
        "\n",
        "4. Activate that environment and run `pip install jupyter` in a shell to install\n",
        "   Jupyter.\n",
        "\n",
        "5. Run `jupyter notebook` in a shell to launch Jupyter.\n",
        "\n",
        "6. Open this notebook in the Jupyter Notebook Dashboard."
      ]
    },
    {
      "cell_type": "markdown",
      "metadata": {
        "id": "xzu2jXlIagf4"
      },
      "source": [
        "### Set up your GCP project\n",
        "\n",
        "**The following steps are required, regardless of your notebook environment.**\n",
        "\n",
        "1. [Select or create a GCP project.](https://console.cloud.google.com/cloud-resource-manager). When you first create an account, you get a $300 free credit towards your compute/storage costs.\n",
        "\n",
        "2. [Make sure that billing is enabled for your project.](https://cloud.google.com/billing/docs/how-to/modify-project)\n",
        "\n",
        "3. [Enable the AI Platform APIs and Compute Engine APIs.](https://console.cloud.google.com/flows/enableapi?apiid=ml.googleapis.com,compute_component)\n",
        "\n",
        "4. Enter your project ID in the cell below. Then run the  cell to make sure the\n",
        "Cloud SDK uses the right project for all the commands in this notebook.\n",
        "\n",
        "**Note**: Jupyter runs lines prefixed with `!` as shell commands, and it interpolates Python variables prefixed with `$` into these commands."
      ]
    },
    {
      "cell_type": "markdown",
      "metadata": {
        "id": "HdrnR9ewagf5"
      },
      "source": [
        "### Authenticate your GCP account\n",
        "\n",
        "**If you are using AI Platform Notebooks**, your environment is already\n",
        "authenticated. Skip this step."
      ]
    },
    {
      "cell_type": "markdown",
      "metadata": {
        "id": "Gtubfzkwagf6"
      },
      "source": [
        "If you are running this notebook in Colab, run the following cell to authenticate your Google Cloud Platform user account"
      ]
    },
    {
      "cell_type": "code",
      "metadata": {
        "id": "eXpqQCHTagf6"
      },
      "source": [
        "import sys\n",
        "\n",
        "# If you are running this notebook in Colab, run this cell and follow the\n",
        "# instructions to authenticate your GCP account. This provides access to your\n",
        "# Cloud Storage bucket and lets you submit training jobs and prediction\n",
        "# requests.\n",
        "\n",
        "if 'google.colab' in sys.modules:\n",
        "  from google.colab import auth as google_auth\n",
        "  google_auth.authenticate_user()\n",
        "\n",
        "# If you are running this notebook locally, replace the string below with the\n",
        "# path to your service account key and run this cell to authenticate your GCP\n",
        "# account.\n",
        "else:\n",
        "  %env GOOGLE_APPLICATION_CREDENTIALS ''"
      ],
      "execution_count": 1,
      "outputs": []
    },
    {
      "cell_type": "markdown",
      "metadata": {
        "id": "nNRPPTyVagf7"
      },
      "source": [
        "## PIP Install Packages and dependencies"
      ]
    },
    {
      "cell_type": "code",
      "metadata": {
        "colab": {
          "base_uri": "https://localhost:8080/"
        },
        "id": "NoiyS-xXagf7",
        "outputId": "f96e48df-8121-4af3-c08d-19538733a8c3"
      },
      "source": [
        "!pip install -U tensorflow==1.15.* --user"
      ],
      "execution_count": 2,
      "outputs": [
        {
          "output_type": "stream",
          "text": [
            "Requirement already up-to-date: tensorflow==1.15.* in /root/.local/lib/python3.7/site-packages (1.15.5)\n",
            "Requirement already satisfied, skipping upgrade: numpy<1.19.0,>=1.16.0 in /root/.local/lib/python3.7/site-packages (from tensorflow==1.15.*) (1.18.5)\n",
            "Requirement already satisfied, skipping upgrade: wrapt>=1.11.1 in /usr/local/lib/python3.7/dist-packages (from tensorflow==1.15.*) (1.12.1)\n",
            "Requirement already satisfied, skipping upgrade: grpcio>=1.8.6 in /usr/local/lib/python3.7/dist-packages (from tensorflow==1.15.*) (1.34.1)\n",
            "Requirement already satisfied, skipping upgrade: opt-einsum>=2.3.2 in /usr/local/lib/python3.7/dist-packages (from tensorflow==1.15.*) (3.3.0)\n",
            "Requirement already satisfied, skipping upgrade: tensorboard<1.16.0,>=1.15.0 in /root/.local/lib/python3.7/site-packages (from tensorflow==1.15.*) (1.15.0)\n",
            "Requirement already satisfied, skipping upgrade: tensorflow-estimator==1.15.1 in /root/.local/lib/python3.7/site-packages (from tensorflow==1.15.*) (1.15.1)\n",
            "Requirement already satisfied, skipping upgrade: keras-preprocessing>=1.0.5 in /usr/local/lib/python3.7/dist-packages (from tensorflow==1.15.*) (1.1.2)\n",
            "Requirement already satisfied, skipping upgrade: six>=1.10.0 in /usr/local/lib/python3.7/dist-packages (from tensorflow==1.15.*) (1.15.0)\n",
            "Requirement already satisfied, skipping upgrade: termcolor>=1.1.0 in /usr/local/lib/python3.7/dist-packages (from tensorflow==1.15.*) (1.1.0)\n",
            "Requirement already satisfied, skipping upgrade: h5py<=2.10.0 in /root/.local/lib/python3.7/site-packages (from tensorflow==1.15.*) (2.10.0)\n",
            "Requirement already satisfied, skipping upgrade: wheel>=0.26; python_version >= \"3\" in /usr/local/lib/python3.7/dist-packages (from tensorflow==1.15.*) (0.36.2)\n",
            "Requirement already satisfied, skipping upgrade: google-pasta>=0.1.6 in /usr/local/lib/python3.7/dist-packages (from tensorflow==1.15.*) (0.2.0)\n",
            "Requirement already satisfied, skipping upgrade: protobuf>=3.6.1 in /usr/local/lib/python3.7/dist-packages (from tensorflow==1.15.*) (3.12.4)\n",
            "Requirement already satisfied, skipping upgrade: absl-py>=0.7.0 in /usr/local/lib/python3.7/dist-packages (from tensorflow==1.15.*) (0.12.0)\n",
            "Requirement already satisfied, skipping upgrade: gast==0.2.2 in /root/.local/lib/python3.7/site-packages (from tensorflow==1.15.*) (0.2.2)\n",
            "Requirement already satisfied, skipping upgrade: keras-applications>=1.0.8 in /root/.local/lib/python3.7/site-packages (from tensorflow==1.15.*) (1.0.8)\n",
            "Requirement already satisfied, skipping upgrade: astor>=0.6.0 in /usr/local/lib/python3.7/dist-packages (from tensorflow==1.15.*) (0.8.1)\n",
            "Requirement already satisfied, skipping upgrade: werkzeug>=0.11.15 in /usr/local/lib/python3.7/dist-packages (from tensorboard<1.16.0,>=1.15.0->tensorflow==1.15.*) (1.0.1)\n",
            "Requirement already satisfied, skipping upgrade: markdown>=2.6.8 in /usr/local/lib/python3.7/dist-packages (from tensorboard<1.16.0,>=1.15.0->tensorflow==1.15.*) (3.3.4)\n",
            "Requirement already satisfied, skipping upgrade: setuptools>=41.0.0 in /usr/local/lib/python3.7/dist-packages (from tensorboard<1.16.0,>=1.15.0->tensorflow==1.15.*) (57.0.0)\n",
            "Requirement already satisfied, skipping upgrade: importlib-metadata; python_version < \"3.8\" in /usr/local/lib/python3.7/dist-packages (from markdown>=2.6.8->tensorboard<1.16.0,>=1.15.0->tensorflow==1.15.*) (4.5.0)\n",
            "Requirement already satisfied, skipping upgrade: typing-extensions>=3.6.4; python_version < \"3.8\" in /usr/local/lib/python3.7/dist-packages (from importlib-metadata; python_version < \"3.8\"->markdown>=2.6.8->tensorboard<1.16.0,>=1.15.0->tensorflow==1.15.*) (3.7.4.3)\n",
            "Requirement already satisfied, skipping upgrade: zipp>=0.5 in /usr/local/lib/python3.7/dist-packages (from importlib-metadata; python_version < \"3.8\"->markdown>=2.6.8->tensorboard<1.16.0,>=1.15.0->tensorflow==1.15.*) (3.4.1)\n"
          ],
          "name": "stdout"
        }
      ]
    },
    {
      "cell_type": "code",
      "metadata": {
        "colab": {
          "base_uri": "https://localhost:8080/"
        },
        "id": "Uauv-x7Nagf7",
        "outputId": "377e5405-c4fc-4242-ca94-b2020e8fde7a"
      },
      "source": [
        "import tensorflow as tf\n",
        "\n",
        "print(tf.__version__)"
      ],
      "execution_count": 3,
      "outputs": [
        {
          "output_type": "stream",
          "text": [
            "1.15.5\n"
          ],
          "name": "stdout"
        }
      ]
    },
    {
      "cell_type": "code",
      "metadata": {
        "id": "r3ztiLiZagf8"
      },
      "source": [
        "import pandas as pd\n",
        "import numpy as np\n",
        "import os"
      ],
      "execution_count": 4,
      "outputs": []
    },
    {
      "cell_type": "markdown",
      "metadata": {
        "id": "3vVro7bmagf8"
      },
      "source": [
        "## 1. Project Configuration"
      ]
    },
    {
      "cell_type": "code",
      "metadata": {
        "colab": {
          "base_uri": "https://localhost:8080/"
        },
        "id": "h9EcJv3Qagf8",
        "outputId": "c470e3d5-6118-484b-eac4-fd2dcf8ff7a1"
      },
      "source": [
        "PROJECT_ID = 'vision-api-exp' # TODO (Set to your GCP Project name)\n",
        "!gcloud config set project {PROJECT_ID}"
      ],
      "execution_count": 5,
      "outputs": [
        {
          "output_type": "stream",
          "text": [
            "Updated property [core/project].\n",
            "\n",
            "\n",
            "To take a quick anonymous survey, run:\n",
            "  $ gcloud survey\n",
            "\n"
          ],
          "name": "stdout"
        }
      ]
    },
    {
      "cell_type": "code",
      "metadata": {
        "id": "EJwdh3DWagf8"
      },
      "source": [
        "BUCKET_NAME = 'sohini-nlp' # TODO (Set to your GCS Bucket name)\n",
        "REGION = 'us-central1' #@param {type:\"string\"}"
      ],
      "execution_count": 6,
      "outputs": []
    },
    {
      "cell_type": "code",
      "metadata": {
        "id": "SnBCRyOdagf8"
      },
      "source": [
        "# Model information.\n",
        "ROOT = 'ml_pipeline'\n",
        "MODEL_DIR = os.path.join(ROOT,'models').replace(\"\\\\\",\"/\")\n",
        "PACKAGES_DIR = os.path.join(ROOT,'packages').replace(\"\\\\\",\"/\")"
      ],
      "execution_count": 7,
      "outputs": []
    },
    {
      "cell_type": "markdown",
      "metadata": {
        "id": "99mOn6HJagf9"
      },
      "source": [
        "## 2. Get training data\n",
        "\n",
        "In this step, we are going to:\n",
        "1. Download Twitter data\n",
        "2. Load the data to Pandas Dataframe.\n",
        "3. Convert the class feature (sentiment) from string to a numeric indicator.\n"
      ]
    },
    {
      "cell_type": "markdown",
      "metadata": {
        "id": "EPVoE8q4agf9"
      },
      "source": [
        "Data can be downloaded directly from [here](https://www.kaggle.com/kazanova/sentiment140) (https://www.kaggle.com/kazanova/sentiment140)\n",
        "\n",
        "It is also located here: `gs://cloud-samples-data/ai-platform/sentiment_analysis/training.csv`\n",
        "\n",
        "You can copy it by using the following command:\n",
        "\n",
        "```\n",
        "gsutil cp gs://cloud-samples-data/ai-platform/sentiment_analysis/training.csv .\n",
        "```"
      ]
    },
    {
      "cell_type": "code",
      "metadata": {
        "colab": {
          "base_uri": "https://localhost:8080/"
        },
        "id": "inwXoxHragf9",
        "outputId": "b3a2a3e1-62d8-4467-ceaf-c340f20b4cab"
      },
      "source": [
        "!gsutil cp gs://cloud-samples-data/ai-platform/sentiment_analysis/training.csv ."
      ],
      "execution_count": 9,
      "outputs": [
        {
          "output_type": "stream",
          "text": [
            "Copying gs://cloud-samples-data/ai-platform/sentiment_analysis/training.csv...\n",
            "\\ [1 files][227.7 MiB/227.7 MiB]                                                \n",
            "Operation completed over 1 objects/227.7 MiB.                                    \n"
          ],
          "name": "stdout"
        }
      ]
    },
    {
      "cell_type": "markdown",
      "metadata": {
        "id": "FGmyJCB-agf9"
      },
      "source": [
        "### 2.1. Input data\n",
        "\n",
        "Create a dictionary with a mapping for each label."
      ]
    },
    {
      "cell_type": "code",
      "metadata": {
        "id": "pTSyvsVeagf9"
      },
      "source": [
        "sentiment_mapping = {\n",
        "    0: 'negative',\n",
        "    2: 'neutral',\n",
        "    4: 'positive'\n",
        "}"
      ],
      "execution_count": 10,
      "outputs": []
    },
    {
      "cell_type": "code",
      "metadata": {
        "id": "j3uFB_rgagf-"
      },
      "source": [
        "df_twitter = pd.read_csv('training.csv', encoding='latin1', header=None)\\\n",
        "             .rename(columns={\n",
        "                 0: 'sentiment',\n",
        "                 1: 'id',\n",
        "                 2: 'posted_at',\n",
        "                 3: 'query',\n",
        "                 4: 'username',\n",
        "                 5: 'text'\n",
        "             })[['sentiment', 'text']]"
      ],
      "execution_count": 11,
      "outputs": []
    },
    {
      "cell_type": "code",
      "metadata": {
        "id": "qxSZGKzDagf-"
      },
      "source": [
        "df_twitter['sentiment_label'] = df_twitter['sentiment'].map(sentiment_mapping)"
      ],
      "execution_count": 12,
      "outputs": []
    },
    {
      "cell_type": "markdown",
      "metadata": {
        "id": "txhh39NIagf-"
      },
      "source": [
        "Verify number of records"
      ]
    },
    {
      "cell_type": "code",
      "metadata": {
        "colab": {
          "base_uri": "https://localhost:8080/"
        },
        "id": "SBxeOu47agf-",
        "outputId": "e2f0cd72-96d4-4eb2-8dfd-1796f2f51f67"
      },
      "source": [
        "df_twitter['sentiment_label'].count()"
      ],
      "execution_count": 13,
      "outputs": [
        {
          "output_type": "execute_result",
          "data": {
            "text/plain": [
              "1600000"
            ]
          },
          "metadata": {
            "tags": []
          },
          "execution_count": 13
        }
      ]
    },
    {
      "cell_type": "code",
      "metadata": {
        "colab": {
          "base_uri": "https://localhost:8080/",
          "height": 204
        },
        "id": "QD_BgMb9avKq",
        "outputId": "fdd3d164-c2c6-4e06-a003-016d3b5989e4"
      },
      "source": [
        "df_twitter.head()"
      ],
      "execution_count": 14,
      "outputs": [
        {
          "output_type": "execute_result",
          "data": {
            "text/html": [
              "<div>\n",
              "<style scoped>\n",
              "    .dataframe tbody tr th:only-of-type {\n",
              "        vertical-align: middle;\n",
              "    }\n",
              "\n",
              "    .dataframe tbody tr th {\n",
              "        vertical-align: top;\n",
              "    }\n",
              "\n",
              "    .dataframe thead th {\n",
              "        text-align: right;\n",
              "    }\n",
              "</style>\n",
              "<table border=\"1\" class=\"dataframe\">\n",
              "  <thead>\n",
              "    <tr style=\"text-align: right;\">\n",
              "      <th></th>\n",
              "      <th>sentiment</th>\n",
              "      <th>text</th>\n",
              "      <th>sentiment_label</th>\n",
              "    </tr>\n",
              "  </thead>\n",
              "  <tbody>\n",
              "    <tr>\n",
              "      <th>0</th>\n",
              "      <td>0</td>\n",
              "      <td>@switchfoot http://twitpic.com/2y1zl - Awww, t...</td>\n",
              "      <td>negative</td>\n",
              "    </tr>\n",
              "    <tr>\n",
              "      <th>1</th>\n",
              "      <td>0</td>\n",
              "      <td>is upset that he can't update his Facebook by ...</td>\n",
              "      <td>negative</td>\n",
              "    </tr>\n",
              "    <tr>\n",
              "      <th>2</th>\n",
              "      <td>0</td>\n",
              "      <td>@Kenichan I dived many times for the ball. Man...</td>\n",
              "      <td>negative</td>\n",
              "    </tr>\n",
              "    <tr>\n",
              "      <th>3</th>\n",
              "      <td>0</td>\n",
              "      <td>my whole body feels itchy and like its on fire</td>\n",
              "      <td>negative</td>\n",
              "    </tr>\n",
              "    <tr>\n",
              "      <th>4</th>\n",
              "      <td>0</td>\n",
              "      <td>@nationwideclass no, it's not behaving at all....</td>\n",
              "      <td>negative</td>\n",
              "    </tr>\n",
              "  </tbody>\n",
              "</table>\n",
              "</div>"
            ],
            "text/plain": [
              "   sentiment                                               text sentiment_label\n",
              "0          0  @switchfoot http://twitpic.com/2y1zl - Awww, t...        negative\n",
              "1          0  is upset that he can't update his Facebook by ...        negative\n",
              "2          0  @Kenichan I dived many times for the ball. Man...        negative\n",
              "3          0    my whole body feels itchy and like its on fire         negative\n",
              "4          0  @nationwideclass no, it's not behaving at all....        negative"
            ]
          },
          "metadata": {
            "tags": []
          },
          "execution_count": 14
        }
      ]
    },
    {
      "cell_type": "markdown",
      "metadata": {
        "id": "I0P7Jrh2agf-"
      },
      "source": [
        "### 2.2. Data processing fn"
      ]
    },
    {
      "cell_type": "code",
      "metadata": {
        "colab": {
          "base_uri": "https://localhost:8080/"
        },
        "id": "SyKc0AJMagf-",
        "outputId": "149d3e25-cac8-4d97-e578-95a31ffa6c9d"
      },
      "source": [
        "%%writefile preprocess.py\n",
        "\n",
        "from tensorflow.python.keras.preprocessing import sequence\n",
        "from tensorflow.keras.preprocessing import text\n",
        "import re\n",
        "\n",
        "\n",
        "class TextPreprocessor(object):\n",
        "    def __init__(self, vocab_size, max_sequence_length):\n",
        "        self._vocab_size = vocab_size\n",
        "        self._max_sequence_length = max_sequence_length\n",
        "        self._tokenizer = None\n",
        "\n",
        "    def _clean_line(self, text):\n",
        "        text = re.sub(r\"http\\S+\", \"\", text)\n",
        "        text = re.sub(r\"@[A-Za-z0-9]+\", \"\", text)\n",
        "        text = re.sub(r\"#[A-Za-z0-9]+\", \"\", text)\n",
        "        text = text.replace(\"RT\",\"\")\n",
        "        text = text.lower()\n",
        "        text = text.strip()\n",
        "        return text\n",
        "    \n",
        "    def fit(self, text_list):        \n",
        "        # Create vocabulary from input corpus.\n",
        "        text_list_cleaned = [self._clean_line(txt) for txt in text_list]\n",
        "        tokenizer = text.Tokenizer(num_words=self._vocab_size)\n",
        "        tokenizer.fit_on_texts(text_list)\n",
        "        self._tokenizer = tokenizer\n",
        "\n",
        "    def transform(self, text_list):        \n",
        "        # Transform text to sequence of integers\n",
        "        text_list = [self._clean_line(txt) for txt in text_list]\n",
        "        text_sequence = self._tokenizer.texts_to_sequences(text_list)\n",
        "\n",
        "        # Fix sequence length to max value. Sequences shorter than the length are\n",
        "        # padded in the beginning and sequences longer are truncated\n",
        "        # at the beginning.\n",
        "        padded_text_sequence = sequence.pad_sequences(\n",
        "          text_sequence, maxlen=self._max_sequence_length)\n",
        "        return padded_text_sequence"
      ],
      "execution_count": 15,
      "outputs": [
        {
          "output_type": "stream",
          "text": [
            "Writing preprocess.py\n"
          ],
          "name": "stdout"
        }
      ]
    },
    {
      "cell_type": "markdown",
      "metadata": {
        "id": "CX-CoYcsagf_"
      },
      "source": [
        "Some small test:"
      ]
    },
    {
      "cell_type": "code",
      "metadata": {
        "colab": {
          "base_uri": "https://localhost:8080/"
        },
        "id": "2oCtvuAwagf_",
        "outputId": "98c47aa1-de02-40db-9448-61ea8e7e680c"
      },
      "source": [
        "from preprocess import TextPreprocessor\n",
        "\n",
        "processor = TextPreprocessor(5, 5)\n",
        "processor.fit(['hello Google Cloud AI Platform','test'])\n",
        "processor.transform(['hello Google Cloud AI Platform',\"lol\"])"
      ],
      "execution_count": 16,
      "outputs": [
        {
          "output_type": "execute_result",
          "data": {
            "text/plain": [
              "array([[0, 1, 2, 3, 4],\n",
              "       [0, 0, 0, 0, 0]], dtype=int32)"
            ]
          },
          "metadata": {
            "tags": []
          },
          "execution_count": 16
        }
      ]
    },
    {
      "cell_type": "markdown",
      "metadata": {
        "id": "N1AihNkCagf_"
      },
      "source": [
        "### 2.3.Data preparation"
      ]
    },
    {
      "cell_type": "markdown",
      "metadata": {
        "id": "KV142yNbagf_"
      },
      "source": [
        "Text preprocessor"
      ]
    },
    {
      "cell_type": "code",
      "metadata": {
        "id": "e9-oDvfNagf_"
      },
      "source": [
        "CLASSES = {'negative': 0, 'positive': 1}  # label-to-int mapping\n",
        "VOCAB_SIZE = 25000  # Limit on the number vocabulary size used for tokenization\n",
        "MAX_SEQUENCE_LENGTH = 50  # Sentences will be truncated/padded to this length"
      ],
      "execution_count": 19,
      "outputs": []
    },
    {
      "cell_type": "code",
      "metadata": {
        "id": "wE3EWlkXagf_"
      },
      "source": [
        "from preprocess import TextPreprocessor\n",
        "from sklearn.model_selection import train_test_split\n",
        "\n",
        "sents = df_twitter.text\n",
        "labels = np.array(df_twitter.sentiment_label.map(CLASSES))\n",
        "\n",
        "# Train and test split\n",
        "X, _, y, _ = train_test_split(sents, labels, test_size=0.1)\n",
        "X_train, X_test, y_train, y_test = train_test_split(X, y, test_size=0.25)\n",
        "\n",
        "# Create vocabulary from training corpus.\n",
        "processor = TextPreprocessor(VOCAB_SIZE, MAX_SEQUENCE_LENGTH)\n",
        "processor.fit(X_train)\n",
        "\n",
        "# Preprocess the data\n",
        "train_texts_vectorized = processor.transform(X_train)\n",
        "eval_texts_vectorized = processor.transform(X_test)"
      ],
      "execution_count": 21,
      "outputs": []
    },
    {
      "cell_type": "code",
      "metadata": {
        "id": "gJcDa56Vagf_"
      },
      "source": [
        "import pickle\n",
        "\n",
        "with open('./processor_state.pkl', 'wb') as f:\n",
        "    pickle.dump(processor, f)"
      ],
      "execution_count": 22,
      "outputs": []
    },
    {
      "cell_type": "markdown",
      "metadata": {
        "id": "u9PrZwwsaggA"
      },
      "source": [
        "## 3. Model\n",
        "\n",
        "Create a TensorFlow model"
      ]
    },
    {
      "cell_type": "code",
      "metadata": {
        "id": "z4erka8HaggA"
      },
      "source": [
        "# Hyperparameters\n",
        "\n",
        "LEARNING_RATE = .001\n",
        "EMBEDDING_DIM = 50\n",
        "FILTERS = 64\n",
        "DROPOUT_RATE = 0.5\n",
        "POOL_SIZE = 3\n",
        "NUM_EPOCH = 1\n",
        "BATCH_SIZE = 32\n",
        "KERNEL_SIZES = [2, 5, 8]"
      ],
      "execution_count": 23,
      "outputs": []
    },
    {
      "cell_type": "markdown",
      "metadata": {
        "id": "oNh0SaHyaggA"
      },
      "source": [
        "### 3.1. Basic model"
      ]
    },
    {
      "cell_type": "code",
      "metadata": {
        "id": "NDk03BxpaggA"
      },
      "source": [
        "def create_model(vocab_size, embedding_dim, filters, kernel_sizes, dropout_rate, pool_size, embedding_matrix):\n",
        "    \n",
        "    # Input layer\n",
        "    model_input = tf.keras.layers.Input(shape=(MAX_SEQUENCE_LENGTH,), dtype='int32')\n",
        "\n",
        "    # Embedding layer\n",
        "    z = tf.keras.layers.Embedding(\n",
        "        input_dim=vocab_size + 1,\n",
        "        output_dim=embedding_dim,\n",
        "        input_length=MAX_SEQUENCE_LENGTH,\n",
        "        weights=[embedding_matrix]\n",
        "    )(model_input)\n",
        "\n",
        "    z = tf.keras.layers.Dropout(dropout_rate)(z)\n",
        "\n",
        "    # Convolutional block\n",
        "    conv_blocks = []\n",
        "    for kernel_size in kernel_sizes:\n",
        "        conv = tf.keras.layers.Convolution1D(\n",
        "            filters=filters,\n",
        "            kernel_size=kernel_size,\n",
        "            padding='valid',\n",
        "            activation='relu',\n",
        "            bias_initializer='random_uniform',\n",
        "            strides=1)(z)\n",
        "        conv = tf.keras.layers.MaxPooling1D(pool_size=2)(conv)\n",
        "        conv = tf.keras.layers.Flatten()(conv)\n",
        "        conv_blocks.append(conv)\n",
        "        \n",
        "    z = tf.keras.layers.Concatenate()(conv_blocks) if len(conv_blocks) > 1 else conv_blocks[0]\n",
        "\n",
        "    z = tf.keras.layers.Dropout(dropout_rate)(z)\n",
        "    z = tf.keras.layers.Dense(100, activation='relu')(z)\n",
        "    model_output = tf.keras.layers.Dense(1, activation='sigmoid')(z)\n",
        "    model = tf.keras.models.Model(model_input, model_output)\n",
        "    \n",
        "    return model"
      ],
      "execution_count": 24,
      "outputs": []
    },
    {
      "cell_type": "markdown",
      "metadata": {
        "id": "uDyONxPKaggA"
      },
      "source": [
        "### 3.2. Pretrained Glove embeddings"
      ]
    },
    {
      "cell_type": "markdown",
      "metadata": {
        "id": "1QIsqzAEaggA"
      },
      "source": [
        "Embeddings can be downloaded from Stanford Glove project: https://nlp.stanford.edu/projects/glove/\n",
        "- Download file [here](http://nlp.stanford.edu/data/glove.twitter.27B.zip) (http://nlp.stanford.edu/data/glove.twitter.27B.zip)\n",
        "- Twitter (2B tweets, 27B tokens, 1.2M vocab, uncased, 25d, 50d, 100d, & 200d vectors, 1.42 GB download)\n",
        "\n",
        "It is also located here: `gs://cloud-samples-data/ai-platform/sentiment_analysis/glove.twitter.27B.50d.txt`\n",
        "\n",
        "You can copy it by using the following command:\n",
        "\n",
        "```\n",
        "gsutil cp gs://cloud-samples-data/ai-platform/sentiment_analysis/glove.twitter.27B.50d.txt .\n",
        "```"
      ]
    },
    {
      "cell_type": "code",
      "metadata": {
        "colab": {
          "base_uri": "https://localhost:8080/"
        },
        "id": "ziYOPmZcaggA",
        "outputId": "66764c0c-bc58-4c6d-aada-1aebbf0c444b"
      },
      "source": [
        "!gsutil cp gs://cloud-samples-data/ai-platform/sentiment_analysis/glove.twitter.27B.50d.txt ."
      ],
      "execution_count": 25,
      "outputs": [
        {
          "output_type": "stream",
          "text": [
            "Copying gs://cloud-samples-data/ai-platform/sentiment_analysis/glove.twitter.27B.50d.txt...\n",
            "\\ [1 files][487.2 MiB/487.2 MiB]                                                \n",
            "Operation completed over 1 objects/487.2 MiB.                                    \n"
          ],
          "name": "stdout"
        }
      ]
    },
    {
      "cell_type": "markdown",
      "metadata": {
        "id": "0pkFrkFoaggA"
      },
      "source": [
        "Create an embedding index"
      ]
    },
    {
      "cell_type": "code",
      "metadata": {
        "id": "CZyeTZQqaggA"
      },
      "source": [
        "def get_coefs(word, *arr):\n",
        "    return word, np.asarray(arr, dtype='float32')"
      ],
      "execution_count": 26,
      "outputs": []
    },
    {
      "cell_type": "code",
      "metadata": {
        "id": "Hh3AjXM2aggB"
      },
      "source": [
        "embeddings_index = dict(get_coefs(*o.strip().split()) for o in open('glove.twitter.27B.50d.txt','r', encoding='utf8'))                                                                                                                                    "
      ],
      "execution_count": 27,
      "outputs": []
    },
    {
      "cell_type": "code",
      "metadata": {
        "id": "xsfj7GV2aggB"
      },
      "source": [
        "word_index = processor._tokenizer.word_index\n",
        "nb_words = min(VOCAB_SIZE, len(word_index))\n",
        "embedding_matrix = np.zeros((nb_words + 1, EMBEDDING_DIM))\n",
        "\n",
        "for word, i in word_index.items():\n",
        "    if i >= VOCAB_SIZE: continue\n",
        "    embedding_vector = embeddings_index.get(word)\n",
        "    if embedding_vector is not None: embedding_matrix[i] = embedding_vector"
      ],
      "execution_count": 28,
      "outputs": []
    },
    {
      "cell_type": "markdown",
      "metadata": {
        "id": "dJJ_nU2VaggB"
      },
      "source": [
        "### 3.3. Create, compile and train TensorFlow model"
      ]
    },
    {
      "cell_type": "code",
      "metadata": {
        "id": "GvJsZHN2aggB",
        "colab": {
          "base_uri": "https://localhost:8080/"
        },
        "outputId": "9674935e-66b9-4c8e-fc2e-70f285c5c359"
      },
      "source": [
        "model = create_model(VOCAB_SIZE, EMBEDDING_DIM, FILTERS, KERNEL_SIZES, DROPOUT_RATE,POOL_SIZE, embedding_matrix)"
      ],
      "execution_count": 29,
      "outputs": [
        {
          "output_type": "stream",
          "text": [
            "WARNING:tensorflow:From /root/.local/lib/python3.7/site-packages/tensorflow_core/python/keras/initializers.py:119: calling RandomUniform.__init__ (from tensorflow.python.ops.init_ops) with dtype is deprecated and will be removed in a future version.\n",
            "Instructions for updating:\n",
            "Call initializer instance with the dtype argument instead of passing it to the constructor\n",
            "WARNING:tensorflow:From /root/.local/lib/python3.7/site-packages/tensorflow_core/python/ops/resource_variable_ops.py:1630: calling BaseResourceVariable.__init__ (from tensorflow.python.ops.resource_variable_ops) with constraint is deprecated and will be removed in a future version.\n",
            "Instructions for updating:\n",
            "If using Keras pass *_constraint arguments to layers.\n"
          ],
          "name": "stdout"
        }
      ]
    },
    {
      "cell_type": "code",
      "metadata": {
        "colab": {
          "base_uri": "https://localhost:8080/"
        },
        "id": "0lCbBFqwaggB",
        "outputId": "708c124e-638c-44c4-812b-92c9e397c872"
      },
      "source": [
        "# Compile model with learning parameters.\n",
        "\n",
        "optimizer = tf.keras.optimizers.Nadam(lr=0.001)\n",
        "model.compile(optimizer=optimizer, loss='binary_crossentropy', metrics=['acc'])"
      ],
      "execution_count": 30,
      "outputs": [
        {
          "output_type": "stream",
          "text": [
            "WARNING:tensorflow:From /root/.local/lib/python3.7/site-packages/tensorflow_core/python/ops/nn_impl.py:183: where (from tensorflow.python.ops.array_ops) is deprecated and will be removed in a future version.\n",
            "Instructions for updating:\n",
            "Use tf.where in 2.0, which has the same broadcast rule as np.where\n"
          ],
          "name": "stdout"
        }
      ]
    },
    {
      "cell_type": "code",
      "metadata": {
        "colab": {
          "base_uri": "https://localhost:8080/"
        },
        "id": "mNYA3J89aggB",
        "outputId": "f6e78074-27c7-42a8-f52d-dae22158a355"
      },
      "source": [
        "#Keras train\n",
        "\n",
        "history = model.fit(\n",
        "    train_texts_vectorized, \n",
        "    y_train, \n",
        "    epochs=NUM_EPOCH, \n",
        "    batch_size=BATCH_SIZE,\n",
        "    validation_data=(eval_texts_vectorized, y_test),\n",
        "    verbose=1)#,\n",
        "#     callbacks=[\n",
        "#         tf.keras.callbacks.ReduceLROnPlateau(\n",
        "#             monitor='val_acc',\n",
        "#             min_delta=0.005,\n",
        "#             patience=3,\n",
        "#             factor=0.5),\n",
        "#         tf.keras.callbacks.EarlyStopping(\n",
        "#             monitor='val_loss',\n",
        "#             min_delta=0.005, \n",
        "#             patience=5, \n",
        "#             verbose=0, \n",
        "#             mode='auto'\n",
        "#         ),\n",
        "#         tf.keras.callbacks.History()\n",
        "#     ]\n",
        "# )"
      ],
      "execution_count": 31,
      "outputs": [
        {
          "output_type": "stream",
          "text": [
            "Train on 1080000 samples, validate on 360000 samples\n",
            "1080000/1080000 [==============================] - 1141s 1ms/sample - loss: 0.4777 - acc: 0.7712 - val_loss: 0.4210 - val_acc: 0.8065\n"
          ],
          "name": "stdout"
        }
      ]
    },
    {
      "cell_type": "code",
      "metadata": {
        "id": "TEZ1SGcFsQrU"
      },
      "source": [
        "from matplotlib import pyplot as plt"
      ],
      "execution_count": 52,
      "outputs": []
    },
    {
      "cell_type": "code",
      "metadata": {
        "colab": {
          "base_uri": "https://localhost:8080/"
        },
        "id": "-Dd-ZLHyscsi",
        "outputId": "66d45bc8-5209-4011-8233-e4d123298091"
      },
      "source": [
        "history.history"
      ],
      "execution_count": 54,
      "outputs": [
        {
          "output_type": "execute_result",
          "data": {
            "text/plain": [
              "{'acc': [0.7711787],\n",
              " 'loss': [0.4777020035567107],\n",
              " 'val_acc': [0.80645],\n",
              " 'val_loss': [0.42104427699512903]}"
            ]
          },
          "metadata": {
            "tags": []
          },
          "execution_count": 54
        }
      ]
    },
    {
      "cell_type": "code",
      "metadata": {
        "colab": {
          "base_uri": "https://localhost:8080/",
          "height": 573
        },
        "id": "Qu_E8WS4sVLr",
        "outputId": "fd1812ee-3bdc-4319-d0e6-4c5c000a2693"
      },
      "source": [
        "# Visualize History for Loss.\n",
        "plt.title('Keras model loss')\n",
        "plt.plot(history.history['loss'])\n",
        "plt.plot(history.history['val_loss'])\n",
        "plt.ylabel('loss')\n",
        "plt.xlabel('epoch')\n",
        "plt.legend(['training', 'validation'], loc='upper right')\n",
        "plt.show()\n",
        "\n",
        "# Visualize History for Accuracy.\n",
        "plt.title('Keras model accuracy')\n",
        "plt.ylabel('accuracy')\n",
        "plt.xlabel('epoch')\n",
        "plt.plot(history.history['acc'])\n",
        "plt.plot(history.history['val_acc'])\n",
        "plt.legend(['training', 'validation'], loc='lower right')\n",
        "plt.show()"
      ],
      "execution_count": 55,
      "outputs": [
        {
          "output_type": "display_data",
          "data": {
            "image/png": "[encoded data removed]",
            "text/plain": [
              "<Figure size 432x288 with 1 Axes>"
            ]
          },
          "metadata": {
            "tags": [],
            "needs_background": "light"
          }
        },
        {
          "output_type": "display_data",
          "data": {
            "image/png": "[encoded data removed]",
            "text/plain": [
              "<Figure size 432x288 with 1 Axes>"
            ]
          },
          "metadata": {
            "tags": [],
            "needs_background": "light"
          }
        }
      ]
    },
    {
      "cell_type": "code",
      "metadata": {
        "colab": {
          "base_uri": "https://localhost:8080/"
        },
        "id": "dGSt-kf2s5j6",
        "outputId": "bdaacd65-4ba4-4491-fe75-33e7f3c4614e"
      },
      "source": [
        "# Export the model to a local SavedModel directory \n",
        "export_path = tf.compat.v1.keras.experimental.export_saved_model(model, 'keras_export')\n",
        "print(\"Model exported to: \", export_path)"
      ],
      "execution_count": 57,
      "outputs": [
        {
          "output_type": "stream",
          "text": [
            "WARNING:tensorflow:From <ipython-input-57-7ef77b64f382>:2: export_saved_model (from tensorflow.python.keras.saving.saved_model_experimental) is deprecated and will be removed in a future version.\n",
            "Instructions for updating:\n",
            "Please use `model.save(..., save_format=\"tf\")` or `tf.keras.models.save_model(..., save_format=\"tf\")`.\n",
            "WARNING:tensorflow:From /root/.local/lib/python3.7/site-packages/tensorflow_core/python/saved_model/signature_def_utils_impl.py:253: build_tensor_info (from tensorflow.python.saved_model.utils_impl) is deprecated and will be removed in a future version.\n",
            "Instructions for updating:\n",
            "This function will only be available through the v1 compatibility library as tf.compat.v1.saved_model.utils.build_tensor_info or tf.compat.v1.saved_model.build_tensor_info.\n",
            "INFO:tensorflow:Signatures INCLUDED in export for Classify: None\n",
            "INFO:tensorflow:Signatures INCLUDED in export for Regress: None\n",
            "INFO:tensorflow:Signatures INCLUDED in export for Predict: None\n",
            "INFO:tensorflow:Signatures INCLUDED in export for Train: ['train']\n",
            "INFO:tensorflow:Signatures INCLUDED in export for Eval: None\n",
            "WARNING:tensorflow:Export includes no default signature!\n",
            "INFO:tensorflow:No assets to save.\n",
            "INFO:tensorflow:No assets to write.\n",
            "INFO:tensorflow:Signatures INCLUDED in export for Classify: None\n",
            "INFO:tensorflow:Signatures INCLUDED in export for Regress: None\n",
            "INFO:tensorflow:Signatures INCLUDED in export for Predict: None\n",
            "INFO:tensorflow:Signatures INCLUDED in export for Train: None\n",
            "INFO:tensorflow:Signatures INCLUDED in export for Eval: ['eval']\n",
            "WARNING:tensorflow:Export includes no default signature!\n",
            "INFO:tensorflow:No assets to save.\n",
            "INFO:tensorflow:No assets to write.\n",
            "WARNING:tensorflow:Unresolved object in checkpoint: (root).optimizer.beta_1\n",
            "WARNING:tensorflow:Unresolved object in checkpoint: (root).optimizer.beta_2\n",
            "WARNING:tensorflow:Unresolved object in checkpoint: (root).optimizer.decay\n",
            "WARNING:tensorflow:Unresolved object in checkpoint: (root).optimizer.learning_rate\n",
            "WARNING:tensorflow:Unresolved object in checkpoint: (root).optimizer.momentum_cache\n",
            "WARNING:tensorflow:Unresolved object in checkpoint: (root).optimizer's state 'm' for (root).layer_with_weights-0.embeddings\n",
            "WARNING:tensorflow:Unresolved object in checkpoint: (root).optimizer's state 'm' for (root).layer_with_weights-1.kernel\n",
            "WARNING:tensorflow:Unresolved object in checkpoint: (root).optimizer's state 'm' for (root).layer_with_weights-1.bias\n",
            "WARNING:tensorflow:Unresolved object in checkpoint: (root).optimizer's state 'm' for (root).layer_with_weights-2.kernel\n",
            "WARNING:tensorflow:Unresolved object in checkpoint: (root).optimizer's state 'm' for (root).layer_with_weights-2.bias\n",
            "WARNING:tensorflow:Unresolved object in checkpoint: (root).optimizer's state 'm' for (root).layer_with_weights-3.kernel\n",
            "WARNING:tensorflow:Unresolved object in checkpoint: (root).optimizer's state 'm' for (root).layer_with_weights-3.bias\n",
            "WARNING:tensorflow:Unresolved object in checkpoint: (root).optimizer's state 'm' for (root).layer_with_weights-4.kernel\n",
            "WARNING:tensorflow:Unresolved object in checkpoint: (root).optimizer's state 'm' for (root).layer_with_weights-4.bias\n",
            "WARNING:tensorflow:Unresolved object in checkpoint: (root).optimizer's state 'm' for (root).layer_with_weights-5.kernel\n",
            "WARNING:tensorflow:Unresolved object in checkpoint: (root).optimizer's state 'm' for (root).layer_with_weights-5.bias\n",
            "WARNING:tensorflow:Unresolved object in checkpoint: (root).optimizer's state 'v' for (root).layer_with_weights-0.embeddings\n",
            "WARNING:tensorflow:Unresolved object in checkpoint: (root).optimizer's state 'v' for (root).layer_with_weights-1.kernel\n",
            "WARNING:tensorflow:Unresolved object in checkpoint: (root).optimizer's state 'v' for (root).layer_with_weights-1.bias\n",
            "WARNING:tensorflow:Unresolved object in checkpoint: (root).optimizer's state 'v' for (root).layer_with_weights-2.kernel\n",
            "WARNING:tensorflow:Unresolved object in checkpoint: (root).optimizer's state 'v' for (root).layer_with_weights-2.bias\n",
            "WARNING:tensorflow:Unresolved object in checkpoint: (root).optimizer's state 'v' for (root).layer_with_weights-3.kernel\n",
            "WARNING:tensorflow:Unresolved object in checkpoint: (root).optimizer's state 'v' for (root).layer_with_weights-3.bias\n",
            "WARNING:tensorflow:Unresolved object in checkpoint: (root).optimizer's state 'v' for (root).layer_with_weights-4.kernel\n",
            "WARNING:tensorflow:Unresolved object in checkpoint: (root).optimizer's state 'v' for (root).layer_with_weights-4.bias\n",
            "WARNING:tensorflow:Unresolved object in checkpoint: (root).optimizer's state 'v' for (root).layer_with_weights-5.kernel\n",
            "WARNING:tensorflow:Unresolved object in checkpoint: (root).optimizer's state 'v' for (root).layer_with_weights-5.bias\n",
            "WARNING:tensorflow:A checkpoint was restored (e.g. tf.train.Checkpoint.restore or tf.keras.Model.load_weights) but not all checkpointed values were used. See above for specific issues. Use expect_partial() on the load status object, e.g. tf.train.Checkpoint.restore(...).expect_partial(), to silence these warnings, or use assert_consumed() to make the check explicit. See https://www.tensorflow.org/alpha/guide/checkpoints#loading_mechanics for details.\n",
            "INFO:tensorflow:Signatures INCLUDED in export for Classify: None\n",
            "INFO:tensorflow:Signatures INCLUDED in export for Regress: None\n",
            "INFO:tensorflow:Signatures INCLUDED in export for Predict: ['serving_default']\n",
            "INFO:tensorflow:Signatures INCLUDED in export for Train: None\n",
            "INFO:tensorflow:Signatures INCLUDED in export for Eval: None\n",
            "INFO:tensorflow:No assets to save.\n",
            "INFO:tensorflow:No assets to write.\n",
            "INFO:tensorflow:SavedModel written to: keras_export/saved_model.pb\n",
            "Model exported to:  None\n"
          ],
          "name": "stdout"
        }
      ]
    },
    {
      "cell_type": "code",
      "metadata": {
        "id": "B0C4T-MdaggB"
      },
      "source": [
        "with open('history.pkl','wb') as file:\n",
        "    pickle.dump(history.history,file)"
      ],
      "execution_count": 32,
      "outputs": []
    },
    {
      "cell_type": "code",
      "metadata": {
        "id": "-jzI-wSFaggB"
      },
      "source": [
        "model.save('keras_saved_model.pb')"
      ],
      "execution_count": 46,
      "outputs": []
    },
    {
      "cell_type": "markdown",
      "metadata": {
        "id": "xyNh3HgCaggB"
      },
      "source": [
        "## 4. Deployment"
      ]
    },
    {
      "cell_type": "markdown",
      "metadata": {
        "id": "EkFjV04kaggC"
      },
      "source": [
        "### 4.1. Prepare custom model prediction"
      ]
    },
    {
      "cell_type": "code",
      "metadata": {
        "colab": {
          "base_uri": "https://localhost:8080/"
        },
        "id": "WHlBV1sRaggC",
        "outputId": "0bfef55b-f2e9-42ad-eed9-23d46290c0d4"
      },
      "source": [
        "%%writefile custom_prediction.py\n",
        "\n",
        "import os\n",
        "import pickle\n",
        "import numpy as np\n",
        "\n",
        "from datetime import date\n",
        "#from google.cloud import logging\n",
        "\n",
        "import tensorflow.keras as keras\n",
        "\n",
        "\n",
        "class CustomModelPrediction(object):   \n",
        "    def __init__(self, model, processor): \n",
        "        self._model = model\n",
        "        self._processor = processor       \n",
        "    \n",
        "    def _postprocess(self, predictions):\n",
        "        labels = ['negative', 'positive']\n",
        "        return [\n",
        "            {\n",
        "                \"label\":labels[int(np.round(prediction))],\n",
        "                \"score\":float(np.round(prediction, 4))\n",
        "            } for prediction in predictions]\n",
        "    \n",
        "    def predict(self, instances, **kwargs):       \n",
        "        preprocessed_data = self._processor.transform(instances)\n",
        "        predictions =  self._model.predict(preprocessed_data)\n",
        "        labels = self._postprocess(predictions)\n",
        "        return labels\n",
        "\n",
        "    @classmethod\n",
        "    def from_path(cls, model_dir):       \n",
        "        model = keras.models.load_model(\n",
        "          os.path.join(model_dir,'keras_saved_model.pb'))\n",
        "        with open(os.path.join(model_dir, 'processor_state.pkl'), 'rb') as f:\n",
        "            processor = pickle.load(f)           \n",
        "        return cls(model, processor)"
      ],
      "execution_count": 47,
      "outputs": [
        {
          "output_type": "stream",
          "text": [
            "Overwriting custom_prediction.py\n"
          ],
          "name": "stdout"
        }
      ]
    },
    {
      "cell_type": "markdown",
      "metadata": {
        "id": "Yqq5JD8faggC"
      },
      "source": [
        "Testing custom prediction locally"
      ]
    },
    {
      "cell_type": "code",
      "metadata": {
        "id": "QR4UQQs5aggC"
      },
      "source": [
        "from custom_prediction import CustomModelPrediction\n",
        "classifier = CustomModelPrediction.from_path('.')"
      ],
      "execution_count": 48,
      "outputs": []
    },
    {
      "cell_type": "code",
      "metadata": {
        "colab": {
          "base_uri": "https://localhost:8080/"
        },
        "id": "Lt0NyaHjaggC",
        "outputId": "a3d42bee-21a1-4d7e-b9a0-85c0f20a226c"
      },
      "source": [
        "requests = (['God I hate the north', 'god I love this'])\n",
        "response = classifier.predict(requests)\n",
        "response"
      ],
      "execution_count": 49,
      "outputs": [
        {
          "output_type": "execute_result",
          "data": {
            "text/plain": [
              "[{'label': 'negative', 'score': 0.08569999784231186},\n",
              " {'label': 'positive', 'score': 0.9492999911308289}]"
            ]
          },
          "metadata": {
            "tags": []
          },
          "execution_count": 49
        }
      ]
    },
    {
      "cell_type": "markdown",
      "metadata": {
        "id": "TDwP2icsaggC"
      },
      "source": [
        "### 4.2. Package it"
      ]
    },
    {
      "cell_type": "code",
      "metadata": {
        "colab": {
          "base_uri": "https://localhost:8080/"
        },
        "id": "m0-RaKYxaggC",
        "outputId": "ab0c0fa5-058f-4332-9e75-ff2326cdcd12"
      },
      "source": [
        "%%writefile setup.py\n",
        "\n",
        "from setuptools import setup\n",
        "\n",
        "setup(\n",
        "  name='tweet_sentiment_classifier',\n",
        "  version='0.1',\n",
        "  include_package_data=True,\n",
        "  scripts=['preprocess.py', 'custom_prediction.py']\n",
        ")"
      ],
      "execution_count": 50,
      "outputs": [
        {
          "output_type": "stream",
          "text": [
            "Overwriting setup.py\n"
          ],
          "name": "stdout"
        }
      ]
    },
    {
      "cell_type": "markdown",
      "metadata": {
        "id": "-vEVRTZ1aggC"
      },
      "source": [
        "Wrap it up and copy to GCP"
      ]
    },
    {
      "cell_type": "code",
      "metadata": {
        "colab": {
          "base_uri": "https://localhost:8080/"
        },
        "id": "SOrlDvR4aggC",
        "outputId": "b4291ba0-9875-4bbe-cff1-4d2eadbe5c18"
      },
      "source": [
        "!python setup.py sdist\n",
        "!gsutil cp ./dist/tweet_sentiment_classifier-0.1.tar.gz gs://{BUCKET_NAME}/{PACKAGES_DIR}/tweet_sentiment_classifier-0.1.tar.gz"
      ],
      "execution_count": 38,
      "outputs": [
        {
          "output_type": "stream",
          "text": [
            "running sdist\n",
            "running egg_info\n",
            "creating tweet_sentiment_classifier.egg-info\n",
            "writing tweet_sentiment_classifier.egg-info/PKG-INFO\n",
            "writing dependency_links to tweet_sentiment_classifier.egg-info/dependency_links.txt\n",
            "writing top-level names to tweet_sentiment_classifier.egg-info/top_level.txt\n",
            "writing manifest file 'tweet_sentiment_classifier.egg-info/SOURCES.txt'\n",
            "reading manifest file 'tweet_sentiment_classifier.egg-info/SOURCES.txt'\n",
            "writing manifest file 'tweet_sentiment_classifier.egg-info/SOURCES.txt'\n",
            "warning: sdist: standard file not found: should have one of README, README.rst, README.txt, README.md\n",
            "\n",
            "running check\n",
            "warning: check: missing required meta-data: url\n",
            "\n",
            "warning: check: missing meta-data: either (author and author_email) or (maintainer and maintainer_email) must be supplied\n",
            "\n",
            "creating tweet_sentiment_classifier-0.1\n",
            "creating tweet_sentiment_classifier-0.1/tweet_sentiment_classifier.egg-info\n",
            "copying files to tweet_sentiment_classifier-0.1...\n",
            "copying custom_prediction.py -> tweet_sentiment_classifier-0.1\n",
            "copying preprocess.py -> tweet_sentiment_classifier-0.1\n",
            "copying setup.py -> tweet_sentiment_classifier-0.1\n",
            "copying tweet_sentiment_classifier.egg-info/PKG-INFO -> tweet_sentiment_classifier-0.1/tweet_sentiment_classifier.egg-info\n",
            "copying tweet_sentiment_classifier.egg-info/SOURCES.txt -> tweet_sentiment_classifier-0.1/tweet_sentiment_classifier.egg-info\n",
            "copying tweet_sentiment_classifier.egg-info/dependency_links.txt -> tweet_sentiment_classifier-0.1/tweet_sentiment_classifier.egg-info\n",
            "copying tweet_sentiment_classifier.egg-info/top_level.txt -> tweet_sentiment_classifier-0.1/tweet_sentiment_classifier.egg-info\n",
            "Writing tweet_sentiment_classifier-0.1/setup.cfg\n",
            "creating dist\n",
            "Creating tar archive\n",
            "removing 'tweet_sentiment_classifier-0.1' (and everything under it)\n",
            "Copying file://./dist/tweet_sentiment_classifier-0.1.tar.gz [Content-Type=application/x-tar]...\n",
            "/ [1 files][  1.6 KiB/  1.6 KiB]                                                \n",
            "Operation completed over 1 objects/1.6 KiB.                                      \n"
          ],
          "name": "stdout"
        }
      ]
    },
    {
      "cell_type": "code",
      "metadata": {
        "colab": {
          "base_uri": "https://localhost:8080/"
        },
        "id": "qNf69JPZaggC",
        "outputId": "1b98402b-92e8-4d6e-bb56-cdea2e03e4d5"
      },
      "source": [
        "!gsutil cp -r keras_export gs://{BUCKET_NAME}/{MODEL_DIR}/\n",
        "#!gsutil cp processor_state.pkl gs://{BUCKET_NAME}/{MODEL_DIR}/"
      ],
      "execution_count": 59,
      "outputs": [
        {
          "output_type": "stream",
          "text": [
            "Copying file://keras_export/saved_model.pb [Content-Type=application/octet-stream]...\n",
            "Copying file://keras_export/variables/checkpoint [Content-Type=application/octet-stream]...\n",
            "Copying file://keras_export/variables/variables.data-00001-of-00002 [Content-Type=application/octet-stream]...\n",
            "Copying file://keras_export/variables/variables.index [Content-Type=application/octet-stream]...\n",
            "- [4 files][364.8 KiB/364.8 KiB]                                                \n",
            "==> NOTE: You are performing a sequence of gsutil operations that may\n",
            "run significantly faster if you instead use gsutil -m cp ... Please\n",
            "see the -m section under \"gsutil help options\" for further information\n",
            "about when gsutil -m can be advantageous.\n",
            "\n",
            "Copying file://keras_export/variables/variables.data-00000-of-00002 [Content-Type=application/octet-stream]...\n",
            "Copying file://keras_export/assets/saved_model.json [Content-Type=application/json]...\n",
            "| [6 files][ 20.2 MiB/ 20.2 MiB]                                                \n",
            "Operation completed over 6 objects/20.2 MiB.                                     \n"
          ],
          "name": "stdout"
        }
      ]
    },
    {
      "cell_type": "markdown",
      "metadata": {
        "id": "nO9YkzPPaggD"
      },
      "source": [
        "## 5. Create model and version"
      ]
    },
    {
      "cell_type": "code",
      "metadata": {
        "id": "edaTtmFEaggD"
      },
      "source": [
        "MODEL_NAME='twitter'\n",
        "MODEL_VERSION='v1'\n",
        "\n",
        "RUNTIME_VERSION='1.15'\n",
        "PYTHON_VERSION='3.7'"
      ],
      "execution_count": 100,
      "outputs": []
    },
    {
      "cell_type": "code",
      "metadata": {
        "colab": {
          "base_uri": "https://localhost:8080/"
        },
        "id": "H6pFZVQkaggD",
        "outputId": "92948344-19e5-4d77-b2be-2b83f0281fb7"
      },
      "source": [
        "!gcloud ai-platform models create {MODEL_NAME} --regions {REGION}"
      ],
      "execution_count": 101,
      "outputs": [
        {
          "output_type": "stream",
          "text": [
            "Using endpoint [https://ml.googleapis.com/]\n",
            "Created ai platform model [projects/vision-api-exp/models/twitter].\n"
          ],
          "name": "stdout"
        }
      ]
    },
    {
      "cell_type": "code",
      "metadata": {
        "colab": {
          "base_uri": "https://localhost:8080/"
        },
        "id": "CD3aLBZknUdt",
        "outputId": "70542a7e-4d8a-4ca2-eb0d-a0a0cc4f5cb3"
      },
      "source": [
        "! echo {BUCKET_NAME}/{MODEL_DIR}"
      ],
      "execution_count": 102,
      "outputs": [
        {
          "output_type": "stream",
          "text": [
            "sohini-nlp/ml_pipeline/models\n"
          ],
          "name": "stdout"
        }
      ]
    },
    {
      "cell_type": "code",
      "metadata": {
        "colab": {
          "base_uri": "https://localhost:8080/"
        },
        "id": "HNCisEufaggD",
        "outputId": "465dcbc4-6f4d-4662-ea38-d10c6ecb20be"
      },
      "source": [
        "!gcloud ai-platform versions create v1 --model twitter --origin gs://sohini-nlp/ml_pipeline/models/keras_export --python-version 3.7 --runtime-version 1.15 --region {REGION} --framework tensorflow\n"
      ],
      "execution_count": 103,
      "outputs": [
        {
          "output_type": "stream",
          "text": [
            "Using endpoint [https://us-central1-ml.googleapis.com/]\n",
            "\u001b[1;31mERROR:\u001b[0m (gcloud.ai-platform.versions.create) NOT_FOUND: Field: parent Error: The model resource: \"twitter\" was not found. Please create the model resource first by using 'gcloud ai-platform models create twitter'.\n",
            "- '@type': type.googleapis.com/google.rpc.BadRequest\n",
            "  fieldViolations:\n",
            "  - description: \"The model resource: \\\"twitter\\\" was not found. Please create the\\\n",
            "      \\ model resource first by using 'gcloud ai-platform models create twitter'.\"\n",
            "    field: parent\n"
          ],
          "name": "stdout"
        }
      ]
    },
    {
      "cell_type": "markdown",
      "metadata": {
        "id": "ROyhP_LNaggD"
      },
      "source": [
        "## 6. Testing"
      ]
    },
    {
      "cell_type": "code",
      "metadata": {
        "id": "Ewzn46NLaggD"
      },
      "source": [
        "from googleapiclient import discovery\n",
        "from oauth2client.client import GoogleCredentials\n",
        "import json"
      ],
      "execution_count": 61,
      "outputs": []
    },
    {
      "cell_type": "code",
      "metadata": {
        "id": "IijdF5QiaggD"
      },
      "source": [
        "requests = [\n",
        "    'god this episode is bad',\n",
        "    'meh, I kinda like it',\n",
        "    'what were the writer thinking, omg!',\n",
        "    'omg! what a twist, who would\\'ve though :o!',\n",
        "    'woohoow, sansa for the win!'\n",
        "]"
      ],
      "execution_count": 104,
      "outputs": []
    },
    {
      "cell_type": "code",
      "metadata": {
        "id": "by1h2Q6EaggD"
      },
      "source": [
        "# JSON format the requests\n",
        "request_data = {'instances': requests}"
      ],
      "execution_count": 105,
      "outputs": []
    },
    {
      "cell_type": "code",
      "metadata": {
        "id": "SIrPAn8BvSn8"
      },
      "source": [
        "with open('prediction_input.json', 'w') as json_file:\n",
        "  for row in request_data:\n",
        "    json.dump(row, json_file)\n",
        "    json_file.write('\\n')"
      ],
      "execution_count": 106,
      "outputs": []
    },
    {
      "cell_type": "code",
      "metadata": {
        "colab": {
          "base_uri": "https://localhost:8080/"
        },
        "id": "Ez0UstFAvoTF",
        "outputId": "3594b12f-92b6-4209-8239-9db0a817ca41"
      },
      "source": [
        "! echo $REGION"
      ],
      "execution_count": 107,
      "outputs": [
        {
          "output_type": "stream",
          "text": [
            "us-central1\n"
          ],
          "name": "stdout"
        }
      ]
    },
    {
      "cell_type": "code",
      "metadata": {
        "colab": {
          "base_uri": "https://localhost:8080/"
        },
        "id": "JW14AiXau0J3",
        "outputId": "07d142e0-29bd-4fa4-c611-0f9ab9580ec5"
      },
      "source": [
        "%%bash\n",
        "\n",
        "gcloud ai-platform predict --model twitter --version v1 --json-instances ./prediction_input.json --region us-central1"
      ],
      "execution_count": 108,
      "outputs": [
        {
          "output_type": "stream",
          "text": [
            "Using endpoint [https://us-central1-ml.googleapis.com/]\n",
            "ERROR: (gcloud.ai-platform.predict) NOT_FOUND: Field: name Error: The model resource: \"twitter\" was not found. Please create the model resource first by using 'gcloud ai-platform models create twitter'.\n",
            "- '@type': type.googleapis.com/google.rpc.BadRequest\n",
            "  fieldViolations:\n",
            "  - description: \"The model resource: \\\"twitter\\\" was not found. Please create the\\\n",
            "      \\ model resource first by using 'gcloud ai-platform models create twitter'.\"\n",
            "    field: name\n"
          ],
          "name": "stderr"
        }
      ]
    }
  ]
}